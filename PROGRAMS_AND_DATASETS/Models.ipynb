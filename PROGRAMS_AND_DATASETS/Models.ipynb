{
 "cells": [
  {
   "cell_type": "markdown",
   "metadata": {},
   "source": [
    "# Model I"
   ]
  },
  {
   "cell_type": "code",
   "execution_count": 1,
   "metadata": {},
   "outputs": [
    {
     "name": "stdout",
     "output_type": "stream",
     "text": [
      "1.12.0\n"
     ]
    }
   ],
   "source": [
    "from __future__ import absolute_import, division, print_function\n",
    "\n",
    "import pathlib\n",
    "\n",
    "# import matplotlib.pyplot as plt\n",
    "import pandas as pd\n",
    "# import seaborn as sns\n",
    "import numpy as np\n",
    "\n",
    "import tensorflow as tf\n",
    "from tensorflow import keras\n",
    "from tensorflow.keras import layers\n",
    "from tensorflow.contrib import lite\n",
    "print(tf.__version__)"
   ]
  },
  {
   "cell_type": "code",
   "execution_count": null,
   "metadata": {},
   "outputs": [],
   "source": [
    "# import the dataSet.\n",
    "data = pd.read_csv('SDS_D_2_T.csv' , delimiter = ',')\n",
    "ytrain = pd.get_dummies(data.disease)\n",
    "Xtrain = data.drop('disease',axis=1)\n",
    "\n",
    "# Create the model.\n",
    "def build_model2():\n",
    "    model = keras.Sequential([\n",
    "    layers.Dense(14,  input_shape=[len(Xtrain.keys())]),\n",
    "    layers.Dense(25, activation=tf.nn.sigmoid) ,   \n",
    "    layers.Dense(44, activation=tf.nn.sigmoid)\n",
    "  ])\n",
    "\n",
    "\n",
    "    optimizer = tf.keras.optimizers.RMSprop(0.001)\n",
    "    model.compile(loss='mean_squared_error',\n",
    "                optimizer=optimizer,\n",
    "                metrics=['mean_absolute_error', 'mean_squared_error'])\n",
    "    return model\n",
    "model2 = build_model2()\n",
    "\n",
    "# run the model.\n",
    "\n",
    "class PrintDot(keras.callbacks.Callback):\n",
    "\n",
    "    #counter = 0\n",
    "    def on_epoch_end(self, epoch, logs):\n",
    "        #counter=counter+1\n",
    "        if epoch % 100 == 0: \n",
    "            print('')    \n",
    "            print(epoch/100, end='\\t')\n",
    "\n",
    "EPOCHS = 1000\n",
    "\n",
    "history = model2.fit(\n",
    "  Xtrain, ytrain,\n",
    "  epochs=EPOCHS, validation_split = 0.2, verbose=0,\n",
    "  callbacks=[PrintDot()])"
   ]
  },
  {
   "cell_type": "code",
   "execution_count": null,
   "metadata": {},
   "outputs": [],
   "source": [
    "# import the dataSet.\n",
    "data = pd.read_csv('SDS_D_2_T.csv' , delimiter = ',')\n",
    "ytrain = pd.get_dummies(data.disease)\n",
    "Xtrain = data.drop('disease',axis=1)\n",
    "\n",
    "# Create the model.\n",
    "def build_model2():\n",
    "    model = keras.Sequential([\n",
    "    layers.Dense(14,  input_shape=[len(Xtrain.keys())]),\n",
    "    layers.Dense(25, activation=tf.nn.sigmoid) ,   \n",
    "    layers.Dense(44, activation=tf.nn.sigmoid)\n",
    "  ])\n",
    "\n",
    "\n",
    "    optimizer = tf.keras.optimizers.RMSprop(0.001)\n",
    "    model.compile(loss='mean_squared_error',\n",
    "                optimizer=optimizer,\n",
    "                metrics=['mean_absolute_error', 'mean_squared_error'])\n",
    "    return model\n",
    "model2 = build_model2()\n",
    "\n",
    "# run the model.\n",
    "\n",
    "class PrintDot(keras.callbacks.Callback):\n",
    "\n",
    "    #counter = 0\n",
    "    def on_epoch_end(self, epoch, logs):\n",
    "        #counter=counter+1\n",
    "        if epoch % 100 == 0: \n",
    "            print('')    \n",
    "            print(epoch/100, end='\\t')\n",
    "\n",
    "EPOCHS = 1000\n",
    "\n",
    "history = model2.fit(\n",
    "  Xtrain, ytrain,\n",
    "  epochs=EPOCHS, validation_split = 0.2, verbose=0,\n",
    "  callbacks=[PrintDot()])"
   ]
  },
  {
   "cell_type": "code",
   "execution_count": 38,
   "metadata": {},
   "outputs": [],
   "source": [
    "example_batch = Xtrain.sample(frac=.05,random_state=0)\n",
    "example_result = model2.predict(example_batch)\n",
    "# print(example_result)"
   ]
  },
  {
   "cell_type": "code",
   "execution_count": 71,
   "metadata": {},
   "outputs": [
    {
     "name": "stdout",
     "output_type": "stream",
     "text": [
      "[0.00031588713, 0.0004919075, 0.00049293425, 0.0006010552, 0.0006637464, 0.0006715232, 0.00068922783, 0.0007107201, 0.00074182043, 0.0007749068, 0.0017153901, 0.0029041863, 0.002930238, 0.0038433615, 0.0046715015, 0.004723009, 0.0048248856, 0.00499818, 0.005160644, 0.006924118, 0.0072264113, 0.007821437, 0.007960782, 0.009943721, 0.011488682, 0.012076264, 0.013517732, 0.01552138, 0.016563993, 0.02016625, 0.021808764, 0.021892931, 0.022464711, 0.024232414, 0.025794303, 0.028970279, 0.029593552, 0.031918306, 0.040162586, 0.055306777, 0.08614553, 0.19292732, 0.22184934, 0.3082094]\n",
      "[0.001447983, 0.0014803389, 0.0015497332, 0.0015677783, 0.0016465089, 0.0016592968, 0.0016625759, 0.0016913763, 0.0017045342, 0.012926544, 0.014969125, 0.017178383, 0.017599037, 0.017619256, 0.01775396, 0.018054476, 0.018246442, 0.01873402, 0.019125849, 0.020788336, 0.020990761, 0.021149153, 0.021721093, 0.023358399, 0.023933325, 0.023949102, 0.02592423, 0.026658593, 0.027648441, 0.027812332, 0.029369151, 0.03126434, 0.031888578, 0.03325367, 0.037756927, 0.039868344, 0.039870773, 0.040505987, 0.047557574, 0.05150701, 0.054368872, 0.05446099, 0.055334374, 0.06053491]\n"
     ]
    }
   ],
   "source": [
    "# print(example_batch)\n",
    "\n",
    "# example_result\n"
   ]
  },
  {
   "cell_type": "code",
   "execution_count": null,
   "metadata": {},
   "outputs": [],
   "source": []
  },
  {
   "cell_type": "code",
   "execution_count": null,
   "metadata": {},
   "outputs": [],
   "source": []
  },
  {
   "cell_type": "code",
   "execution_count": null,
   "metadata": {},
   "outputs": [],
   "source": []
  }
 ],
 "metadata": {
  "kernelspec": {
   "display_name": "Python 3",
   "language": "python",
   "name": "python3"
  },
  "language_info": {
   "codemirror_mode": {
    "name": "ipython",
    "version": 3
   },
   "file_extension": ".py",
   "mimetype": "text/x-python",
   "name": "python",
   "nbconvert_exporter": "python",
   "pygments_lexer": "ipython3",
   "version": "3.6.8"
  }
 },
 "nbformat": 4,
 "nbformat_minor": 2
}
