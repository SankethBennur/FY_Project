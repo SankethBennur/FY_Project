{
 "cells": [
  {
   "cell_type": "code",
   "execution_count": 21,
   "metadata": {},
   "outputs": [],
   "source": [
    "import numpy as np\n",
    "import tensorflow as tf\n",
    "\n",
    "# Generate tf.keras model.\n",
    "model = tf.keras.models.Sequential()\n",
    "model.add(tf.keras.layers.Dense(2, input_shape=(3,)))\n",
    "model.add(tf.keras.layers.RepeatVector(3))\n",
    "model.add(tf.keras.layers.TimeDistributed(tf.keras.layers.Dense(3)))\n",
    "model.compile(loss=tf.keras.losses.MSE,\n",
    "              optimizer=tf.keras.optimizers.RMSprop(lr=0.0001),\n",
    "              metrics=[tf.keras.metrics.categorical_accuracy],\n",
    "              sample_weight_mode='temporal')\n",
    "\n",
    "x = np.random.random((1, 3))\n",
    "y = np.random.random((1, 3, 3))\n",
    "model.train_on_batch(x, y)\n",
    "model.predict(x)\n",
    "\n",
    "# Save tf.keras model in HDF5 format.\n",
    "keras_file = \"keras_model.h5\"\n",
    "tf.keras.models.save_model(model, keras_file)"
   ]
  },
  {
   "cell_type": "markdown",
   "metadata": {},
   "source": [
    "# Commad for converting the model to tflite\n",
    "` tflite_convert   --output_file=too.tflite   --keras_model_file=keras_model.h5 `"
   ]
  },
  {
   "cell_type": "code",
   "execution_count": null,
   "metadata": {},
   "outputs": [],
   "source": []
  }
 ],
 "metadata": {
  "kernelspec": {
   "display_name": "Python 3",
   "language": "python",
   "name": "python3"
  },
  "language_info": {
   "codemirror_mode": {
    "name": "ipython",
    "version": 3
   },
   "file_extension": ".py",
   "mimetype": "text/x-python",
   "name": "python",
   "nbconvert_exporter": "python",
   "pygments_lexer": "ipython3",
   "version": "3.7.1"
  }
 },
 "nbformat": 4,
 "nbformat_minor": 2
}
